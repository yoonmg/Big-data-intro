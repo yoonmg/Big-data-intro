{
 "cells": [
  {
   "cell_type": "code",
   "execution_count": 1,
   "id": "a18c2ab6-a631-494e-ac89-f80e61345afa",
   "metadata": {},
   "outputs": [],
   "source": [
    "from pyspark.sql import SparkSession\n",
    "\n",
    "spark = SparkSession.builder.master('local').appName('big_data_assignment').getOrCreate()"
   ]
  },
  {
   "cell_type": "code",
   "execution_count": 2,
   "id": "e13cf270-e0a4-4234-bd21-291aa4cb1921",
   "metadata": {},
   "outputs": [],
   "source": [
    "celebrity =[('이순재',90),\n",
    "            ('이채영',24),\n",
    "            ('현빈',40),\n",
    "            ('백지헌',21),\n",
    "            ('이새롬',27),\n",
    "            ('임요환',42),\n",
    "            ('김흥국',64)]"
   ]
  },
  {
   "cell_type": "code",
   "execution_count": 3,
   "id": "c7298c94-6c5e-4e74-8d47-5c72af88edcd",
   "metadata": {},
   "outputs": [],
   "source": [
    "schema = ['name', 'age']"
   ]
  },
  {
   "cell_type": "code",
   "execution_count": 4,
   "id": "239c7ba6-960f-4274-a214-6fb792b61b45",
   "metadata": {},
   "outputs": [],
   "source": [
    "df = spark.createDataFrame(data = celebrity , schema = schema)"
   ]
  },
  {
   "cell_type": "code",
   "execution_count": 5,
   "id": "2c1ae664-38f8-47f8-8c65-48ac25faf2a7",
   "metadata": {},
   "outputs": [
    {
     "name": "stdout",
     "output_type": "stream",
     "text": [
      "+------+---+\n",
      "|  name|age|\n",
      "+------+---+\n",
      "|이순재| 90|\n",
      "|이채영| 24|\n",
      "|  현빈| 40|\n",
      "|백지헌| 21|\n",
      "|이새롬| 27|\n",
      "|임요환| 42|\n",
      "|김흥국| 64|\n",
      "+------+---+\n",
      "\n"
     ]
    }
   ],
   "source": [
    "df.show()"
   ]
  },
  {
   "cell_type": "code",
   "execution_count": 6,
   "id": "bbfe78ec-68f1-45f1-abd4-8f5d24d54896",
   "metadata": {},
   "outputs": [],
   "source": [
    "df.createOrReplaceTempView('celebrities')"
   ]
  },
  {
   "cell_type": "code",
   "execution_count": 7,
   "id": "c89fed79-2cf1-42a9-a386-503012b4253a",
   "metadata": {},
   "outputs": [],
   "source": [
    "def age_category(age):\n",
    "    if age < 35: age = 'young' \n",
    "    elif age >=35 and age < 60: age = 'adult'\n",
    "    else: age = 'senior'\n",
    "    return age"
   ]
  },
  {
   "cell_type": "code",
   "execution_count": 8,
   "id": "72b690d8-9b87-4a43-ad09-1f073c0b1071",
   "metadata": {},
   "outputs": [
    {
     "data": {
      "text/plain": [
       "<function __main__.age_category(age)>"
      ]
     },
     "execution_count": 8,
     "metadata": {},
     "output_type": "execute_result"
    }
   ],
   "source": [
    "spark.udf.register('age_category',age_category)"
   ]
  },
  {
   "cell_type": "code",
   "execution_count": 9,
   "id": "a0b61e06-4671-4f7f-96ae-2c5c5409daeb",
   "metadata": {},
   "outputs": [
    {
     "name": "stdout",
     "output_type": "stream",
     "text": [
      "+------+------------+\n",
      "|  name|age_category|\n",
      "+------+------------+\n",
      "|이순재|      senior|\n",
      "|이채영|       young|\n",
      "|  현빈|       adult|\n",
      "|백지헌|       young|\n",
      "|이새롬|       young|\n",
      "|임요환|       adult|\n",
      "|김흥국|      senior|\n",
      "+------+------------+\n",
      "\n"
     ]
    }
   ],
   "source": [
    "spark.sql(\"SELECT name,age_category(age) AS age_category FROM celebrities\").show()"
   ]
  },
  {
   "cell_type": "code",
   "execution_count": null,
   "id": "4d12abee-bea4-4c81-875a-2a5bc220f719",
   "metadata": {},
   "outputs": [],
   "source": []
  }
 ],
 "metadata": {
  "kernelspec": {
   "display_name": "Python 3 (ipykernel)",
   "language": "python",
   "name": "python3"
  },
  "language_info": {
   "codemirror_mode": {
    "name": "ipython",
    "version": 3
   },
   "file_extension": ".py",
   "mimetype": "text/x-python",
   "name": "python",
   "nbconvert_exporter": "python",
   "pygments_lexer": "ipython3",
   "version": "3.10.9"
  }
 },
 "nbformat": 4,
 "nbformat_minor": 5
}
